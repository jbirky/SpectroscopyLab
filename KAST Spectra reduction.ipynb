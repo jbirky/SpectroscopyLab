{
 "cells": [
  {
   "cell_type": "code",
   "execution_count": 1,
   "metadata": {},
   "outputs": [],
   "source": [
    "import numpy as np\n",
    "import matplotlib.pyplot as plt\n",
    "from astropy.io import fits\n",
    "import os"
   ]
  },
  {
   "cell_type": "code",
   "execution_count": null,
   "metadata": {},
   "outputs": [],
   "source": [
    "'''\n",
    "Grabbing data from the fits file\n",
    "'''\n",
    "\n",
    "\n",
    "def readData(folder):\n",
    "    '''\n",
    "    Reads all the fits files in a folder and creates a 3D array\n",
    "    '''\n",
    "    files = os.listdir(folder)\n",
    "    array3D = []\n",
    "    for ff in files:\n",
    "        arr = fits.getdata(folder+ff,ignore_missing_end=True)\n",
    "        array3D.append(arr)\n",
    "    return np.array(array3D)\n",
    "\n",
    "def combineFrame(data_array):\n",
    "    '''\n",
    "    Avergaes the 3D into 2D array\n",
    "    '''\n",
    "    return np.median(data_array,axis=0)"
   ]
  },
  {
   "cell_type": "code",
   "execution_count": null,
   "metadata": {},
   "outputs": [],
   "source": [
    "'''\n",
    "Reduction functions\n",
    "'''\n",
    "\n",
    "def slit_size(data = 'fits_file'):\n",
    "    '''\n",
    "    takes a fits file and finds the slit sized used\n",
    "    '''\n",
    "    dt = fits.open(data)\n",
    "    header = dt[0].header\n",
    "    print(header['SLIT_N'])\n",
    "    \n",
    "    \n",
    "def norm_flat(bias_folder,flat_folder):\n",
    "    '''\n",
    "    Input the bias and flat folders and creates\n",
    "    bias,flats, and normalized flats\n",
    "    '''\n",
    "    flat3d = readData(flat_folder)\n",
    "    bias3d = readData(bias_folder)\n",
    "\n",
    "    flat2d = combineFrame(flat3d)\n",
    "    bias2d = combineFrame(bias3d)\n",
    "\n",
    "    norm_flat = (flat2d-bias2d)/np.median(flat2d-bias2d)\n",
    "    return norm_flat,flat2d,bias2d\n",
    "\n",
    "def science_image(science_folder,flat_folder,bias_folder):\n",
    "    '''\n",
    "    Creates a science image and outputs the 2D array to be used to make spectra\n",
    "    '''\n",
    "    normflat, flat, bias = norm_flat(bias_folder,flat_folder) # creates flats and bias\n",
    "\n",
    "    science_3d = readData(science_folder) # reducing down to 2d \n",
    "    science_2d = combineFrame(science_3d)\n",
    "    science_final = (science_2d - bias)/normflat # subtracting bias and normalizing\n",
    "    # Plots the science image\n",
    "    plt.imshow(science_final,origin='lower',interpolation='nearest',cmap='gray',vmin=10,vmax=1000)\n",
    "    plt.show()\n",
    "    return science_final\n",
    "\n",
    "def science_spectra(science_2d,start_slice,end_slice,file_name='file_name'):\n",
    "    '''\n",
    "    Creates a spectra by slicing up the science image at the input spatial\n",
    "    pixels, saves array, and outputs plot\n",
    "    '''\n",
    "    spectra = np.mean(science_2d[start_slice:end_slice,:],axis=0)\n",
    "    spectra = spectra[spectra>0]\n",
    "    x = np.arange(0,len(spectra))\n",
    "    plt.plot(x,spectra,color='black')\n",
    "    plt.show()\n",
    "    np.save('%s_spectra'%file_name,science_2d)\n",
    "    return spectra\n",
    "\n"
   ]
  }
 ],
 "metadata": {
  "kernelspec": {
   "display_name": "Python 3",
   "language": "python",
   "name": "python3"
  },
  "language_info": {
   "codemirror_mode": {
    "name": "ipython",
    "version": 3
   },
   "file_extension": ".py",
   "mimetype": "text/x-python",
   "name": "python",
   "nbconvert_exporter": "python",
   "pygments_lexer": "ipython3",
   "version": "3.6.5"
  }
 },
 "nbformat": 4,
 "nbformat_minor": 2
}
